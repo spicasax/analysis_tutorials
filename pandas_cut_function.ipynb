{
 "cells": [
  {
   "cell_type": "markdown",
   "metadata": {},
   "source": [
    "# Using cut to bin data in pandas dataframe\n",
    "\n",
    "In this tutorial, we will explore how to bin data in a pandas DataFrame using the **cut** function. \n",
    "\n",
    "## What is binning? \n",
    "\n",
    "Binning is a way to group data into smaller containers called bins. For example, in surveys, an age question might collect data into ranges. An example of age bins might be: 0 - 25, 25 - 34, 35 - 49, 50 - 70, 70+.\n",
    "\n",
    "## Tutorial\n",
    "\n",
    "Let's see how we can bin data using the pandas **cut** function.\n",
    "\n",
    "First we import the **pandas** and **numpy** libraries. We'll use numpy to generate some sample data."
   ]
  },
  {
   "cell_type": "code",
   "execution_count": 1,
   "metadata": {},
   "outputs": [],
   "source": [
    "import numpy\n",
    "import pandas"
   ]
  },
  {
   "cell_type": "markdown",
   "metadata": {},
   "source": [
    "Now let's generate 1000 random samples using the **random.normal** function. This will be the data that we plan to bin. In the normal function, we pass in three arguments:\n",
    "\n",
    "* loc - the mean of the normal distribution\n",
    "* scale - standard deviation\n",
    "* size - numer of samples in the returned numpy array\n",
    "\n",
    "In our case, we want 1000 samples, but we'll only print out the first 10 samples as a sanity check of the data."
   ]
  },
  {
   "cell_type": "code",
   "execution_count": 2,
   "metadata": {},
   "outputs": [
    {
     "name": "stdout",
     "output_type": "stream",
     "text": [
      "[0.42145724 0.51517573 0.26586396 0.89178226 0.36243388 0.41743652\n",
      " 0.76768077 0.42668549 0.48943054 0.4796403 ]\n"
     ]
    }
   ],
   "source": [
    "samples = numpy.random.normal(loc=0.5, scale=0.2, size=1000)\n",
    "print(samples[0:10])"
   ]
  },
  {
   "cell_type": "markdown",
   "metadata": {},
   "source": [
    "Next we generate some fake labels to pretend we have a binary classification. We will not be binning this data, but it is just for example. Again, we'll print out the first 10 samples only to sanity check it."
   ]
  },
  {
   "cell_type": "code",
   "execution_count": 3,
   "metadata": {},
   "outputs": [
    {
     "name": "stdout",
     "output_type": "stream",
     "text": [
      "[0 1 1 1 1 0 1 0 0 0]\n"
     ]
    }
   ],
   "source": [
    "labels = numpy.random.choice(numpy.arange(2), size=1000, replace=True)\n",
    "print(labels[0:10])"
   ]
  },
  {
   "cell_type": "markdown",
   "metadata": {},
   "source": [
    "Let's put these two arrays together to form a pandas DataFrame:"
   ]
  },
  {
   "cell_type": "code",
   "execution_count": 4,
   "metadata": {},
   "outputs": [
    {
     "name": "stdout",
     "output_type": "stream",
     "text": [
      "   labels   samples\n",
      "0       0  0.421457\n",
      "1       1  0.515176\n",
      "2       1  0.265864\n",
      "3       1  0.891782\n",
      "4       1  0.362434\n",
      "5       0  0.417437\n",
      "6       1  0.767681\n",
      "7       0  0.426685\n",
      "8       0  0.489431\n",
      "9       0  0.479640\n"
     ]
    }
   ],
   "source": [
    "df = pandas.DataFrame({'labels': labels, 'samples': samples})\n",
    "print(df.head(10))"
   ]
  },
  {
   "cell_type": "markdown",
   "metadata": {},
   "source": [
    "To create our bins, we use the **linspace** function in numpy to generate an array of evenly spaced numbers. The arguments for linspace are:\n",
    "\n",
    "* start - first number in our array\n",
    "* stop - last number in our array\n",
    "* num - how many numbers in our array"
   ]
  },
  {
   "cell_type": "code",
   "execution_count": 5,
   "metadata": {},
   "outputs": [
    {
     "name": "stdout",
     "output_type": "stream",
     "text": [
      "[0.   0.05 0.1  0.15 0.2  0.25 0.3  0.35 0.4  0.45 0.5  0.55 0.6  0.65\n",
      " 0.7  0.75 0.8  0.85 0.9  0.95 1.  ]\n"
     ]
    }
   ],
   "source": [
    "hist_bins = numpy.linspace(start=0.0, stop=1.0, num=21)\n",
    "print(hist_bins)"
   ]
  },
  {
   "cell_type": "markdown",
   "metadata": {},
   "source": [
    "Now we can indicate which sample is in which bin with the **cut** function in pandas. We will bin the samples column, using the hist_bins values to indicate the actual bin boundaries. Note that I am also passing in **right=False** to indicate that the right boundary of each bin is open. If you want the right side to be closed and the left side to be open, pass in **True**."
   ]
  },
  {
   "cell_type": "code",
   "execution_count": 6,
   "metadata": {},
   "outputs": [
    {
     "name": "stdout",
     "output_type": "stream",
     "text": [
      "   labels   samples         bins\n",
      "0       0  0.421457  [0.4, 0.45)\n",
      "1       1  0.515176  [0.5, 0.55)\n",
      "2       1  0.265864  [0.25, 0.3)\n",
      "3       1  0.891782  [0.85, 0.9)\n",
      "4       1  0.362434  [0.35, 0.4)\n",
      "5       0  0.417437  [0.4, 0.45)\n",
      "6       1  0.767681  [0.75, 0.8)\n",
      "7       0  0.426685  [0.4, 0.45)\n",
      "8       0  0.489431  [0.45, 0.5)\n",
      "9       0  0.479640  [0.45, 0.5)\n"
     ]
    }
   ],
   "source": [
    "df['bins'] = pandas.cut(df['samples'], bins=hist_bins, right=False)\n",
    "print(df.head(10))"
   ]
  },
  {
   "cell_type": "markdown",
   "metadata": {},
   "source": [
    "Where binning becomes useful is when we want to apply some operation on it. For our example, let's do a **groupby** operation on the bins and then aggregate the labels data by performing a **count** operation it. Then we can do a **cumsum** (cumulative sum) on the labels count.\n",
    "\n",
    "This is all a contrived example, of course, to give you ideas for your specific use case."
   ]
  },
  {
   "cell_type": "code",
   "execution_count": 7,
   "metadata": {},
   "outputs": [
    {
     "name": "stdout",
     "output_type": "stream",
     "text": [
      "           bins  labels_count  cumsum\n",
      "0   [0.0, 0.05)            12      12\n",
      "1   [0.05, 0.1)             7      19\n",
      "2   [0.1, 0.15)            19      38\n",
      "3   [0.15, 0.2)            25      63\n",
      "4   [0.2, 0.25)            44     107\n",
      "5   [0.25, 0.3)            68     175\n",
      "6   [0.3, 0.35)            67     242\n",
      "7   [0.35, 0.4)            87     329\n",
      "8   [0.4, 0.45)            87     416\n",
      "9   [0.45, 0.5)            95     511\n",
      "10  [0.5, 0.55)            83     594\n",
      "11  [0.55, 0.6)            94     688\n",
      "12  [0.6, 0.65)            73     761\n",
      "13  [0.65, 0.7)            70     831\n",
      "14  [0.7, 0.75)            60     891\n",
      "15  [0.75, 0.8)            44     935\n",
      "16  [0.8, 0.85)            19     954\n",
      "17  [0.85, 0.9)            25     979\n",
      "18  [0.9, 0.95)            10     989\n",
      "19  [0.95, 1.0)             6     995\n"
     ]
    }
   ],
   "source": [
    "grouped = df.groupby(['bins'], as_index=False).agg({\n",
    "    'labels': pandas.Series.count,\n",
    "}).rename(columns={'labels': 'labels_count'})\n",
    "grouped['cumsum'] = grouped.labels_count.cumsum()\n",
    "\n",
    "print(grouped)"
   ]
  },
  {
   "cell_type": "markdown",
   "metadata": {},
   "source": [
    "## Summary\n",
    "\n",
    "In this article, we learned how to bin our data using the pandas **cut** function, so that we could later perform some aggregate operations on the data. I hope you found this tutorial useful."
   ]
  },
  {
   "cell_type": "code",
   "execution_count": null,
   "metadata": {},
   "outputs": [],
   "source": []
  }
 ],
 "metadata": {
  "kernelspec": {
   "display_name": "Python 3",
   "language": "python",
   "name": "python3"
  },
  "language_info": {
   "codemirror_mode": {
    "name": "ipython",
    "version": 3
   },
   "file_extension": ".py",
   "mimetype": "text/x-python",
   "name": "python",
   "nbconvert_exporter": "python",
   "pygments_lexer": "ipython3",
   "version": "3.7.2"
  }
 },
 "nbformat": 4,
 "nbformat_minor": 2
}
